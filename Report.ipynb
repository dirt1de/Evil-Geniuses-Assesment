{
 "cells": [
  {
   "cell_type": "code",
   "execution_count": 3,
   "id": "9a17b7fd",
   "metadata": {},
   "outputs": [],
   "source": [
    "import pandas as pd\n",
    "import numpy as np\n",
    "from process_game_state import ProcessGameState\n",
    "from matplotlib import path\n",
    "import seaborn as sns\n",
    "from matplotlib import pyplot as plt\n",
    "import math"
   ]
  },
  {
   "cell_type": "code",
   "execution_count": 4,
   "id": "4126e18d",
   "metadata": {},
   "outputs": [],
   "source": [
    "# Convert from parquet to df\n",
    "df = pd.read_parquet('game_state_frame_data.parquet', engine='pyarrow')\n",
    "\n",
    "retract_col_name = \"inventory\"\n",
    "retract_key_name = 'weapon_class'\n",
    "players_cols = ['Player5', 'Player6', 'Player7', 'Player8', 'Player9']\n",
    "\n",
    "df['extracted_feature_map'] = ProcessGameState.extract_feature(\n",
    "    df, retract_col_name, retract_key_name)\n",
    "\n",
    "polygon = path.Path(\n",
    "    [(-1735, 250), (-2024, 398), (-2806, 742), (-2472, 1233), (-1565, 580)])\n",
    "z_boundary = [285, 421]\n",
    "\n",
    "df['is_in_region'] = df.apply(\n",
    "    ProcessGameState.check_is_in_region, args=(polygon, z_boundary), axis=1)\n"
   ]
  },
  {
   "cell_type": "code",
   "execution_count": 5,
   "id": "be16e868",
   "metadata": {},
   "outputs": [
    {
     "name": "stdout",
     "output_type": "stream",
     "text": [
      "0.06666666666666667\n"
     ]
    }
   ],
   "source": [
    "# Q2(a)\n",
    "# Rounds of Team 2 on T side and enters the region / Rounds of Team 2 on T side\n",
    "team_2_on_t_side_in_region_rounds = df.loc[(\n",
    "    df['is_in_region'] == True) & (df['side'] == 'T') & (df['team'] == 'Team2')]['round_num'].drop_duplicates()\n",
    "team_2_on_t_side = df.loc[(df['side'] == 'T') & (\n",
    "    df['team'] == 'Team2')]['round_num'].drop_duplicates()\n",
    "\n",
    "ratio = len(team_2_on_t_side_in_region_rounds) / len(team_2_on_t_side)\n",
    "print(ratio)"
   ]
  },
  {
   "cell_type": "code",
   "execution_count": 11,
   "id": "c4d95b4b",
   "metadata": {},
   "outputs": [
    {
     "name": "stdout",
     "output_type": "stream",
     "text": [
      "player Player5 Player6 Player7 Player8 Player9\n",
      "tick                                          \n",
      "482748     NaN   01:26     NaN   01:26     NaN\n",
      "482764     NaN   01:26     NaN   01:26     NaN\n",
      "482780     NaN   01:26     NaN   01:26     NaN\n",
      "482796     NaN   01:26     NaN   01:26     NaN\n",
      "482812     NaN   01:26     NaN   01:26     NaN\n",
      "483148   01:23   01:23     NaN   01:23     NaN\n",
      "483260   01:22   01:22     NaN   01:22     NaN\n",
      "483276   01:22   01:22     NaN   01:22     NaN\n",
      "483292   01:22   01:22     NaN   01:22     NaN\n",
      "483308   01:22   01:22     NaN   01:22     NaN\n",
      "483324   01:22   01:22   01:22   01:22     NaN\n",
      "483340   01:22   01:22   01:22   01:22     NaN\n",
      "483420   01:21   01:21   01:21   01:21     NaN\n",
      "483436   01:21   01:21   01:21   01:21     NaN\n",
      "483452   01:21   01:21   01:21   01:21     NaN\n",
      "483468   01:21   01:21   01:21   01:21     NaN\n",
      "483484   01:21   01:21   01:21   01:21     NaN\n",
      "483500   01:21   01:21   01:21   01:21     NaN\n",
      "483516   01:20   01:20   01:20   01:20     NaN\n",
      "484028   01:16   01:16   01:16   01:16   01:16\n",
      "484044   01:16   01:16   01:16   01:16   01:16\n",
      "484060   01:16   01:16   01:16   01:16   01:16\n",
      "484076   01:16   01:16   01:16   01:16   01:16\n",
      "484092   01:16   01:16   01:16   01:16   01:16\n",
      "484108   01:16   01:16   01:16   01:16   01:16\n",
      "484124   01:16   01:16   01:16   01:16   01:16\n",
      "484140   01:16   01:16   01:16   01:16   01:16\n",
      "484156   01:15   01:15   01:15   01:15   01:15\n",
      "484172   01:15   01:15   01:15   01:15   01:15\n",
      "484188   01:15   01:15   01:15   01:15   01:15\n",
      "484204   01:15   01:15   01:15   01:15   01:15\n",
      "484220   01:15   01:15   01:15   01:15   01:15\n",
      "484236   01:15   01:15   01:15   01:15   01:15\n",
      "484252   01:15   01:15   01:15   01:15   01:15\n",
      "484268   01:15   01:15   01:15   01:15   01:15\n",
      "484284   01:14   01:14   01:14   01:14   01:14\n",
      "484300   01:14   01:14   01:14   01:14   01:14\n",
      "484316   01:14   01:14   01:14   01:14   01:14\n",
      "484332   01:14   01:14   01:14   01:14   01:14\n",
      "484348   01:14   01:14   01:14   01:14   01:14\n",
      "484364   01:14   01:14   01:14   01:14   01:14\n",
      "484380   01:14   01:14   01:14   01:14   01:14\n",
      "484396   01:14   01:14   01:14   01:14   01:14\n",
      "484412   01:13   01:13   01:13   01:13   01:13\n",
      "484428   01:13   01:13   01:13   01:13   01:13\n",
      "484444   01:13   01:13   01:13   01:13   01:13\n",
      "484460   01:13   01:13   01:13   01:13   01:13\n",
      "484476   01:13   01:13   01:13   01:13   01:13\n",
      "484492   00:40   00:40   00:40   00:40   00:40\n",
      "484508   00:40   00:40   00:40   00:40   00:40\n",
      "484524   00:40   00:40   00:40   00:40   00:40\n",
      "484540   00:40   00:40   00:40   00:40   00:40\n",
      "484636   00:39   00:39   00:39   00:39   00:39\n",
      "484652   00:39   00:39   00:39   00:39   00:39\n",
      "484668   00:39   00:39   00:39   00:39   00:39\n",
      "player  Player5  Player6  Player7  Player8  Player9\n",
      "tick                                               \n",
      "482748      NaN     28.0      NaN     28.0      NaN\n",
      "482764      NaN     28.0      NaN     28.0      NaN\n",
      "482780      NaN     28.0      NaN     28.0      NaN\n",
      "482796      NaN     28.0      NaN     28.0      NaN\n",
      "482812      NaN     28.0      NaN     28.0      NaN\n",
      "483148     28.0     28.0      NaN     28.0      NaN\n",
      "483260     28.0     28.0      NaN     28.0      NaN\n",
      "483276     28.0     28.0      NaN     28.0      NaN\n",
      "483292     28.0     28.0      NaN     28.0      NaN\n",
      "483308     28.0     28.0      NaN     28.0      NaN\n",
      "483324     28.0     28.0     28.0     28.0      NaN\n",
      "483340     28.0     28.0     28.0     28.0      NaN\n",
      "483420     28.0     28.0     28.0     28.0      NaN\n",
      "483436     28.0     28.0     28.0     28.0      NaN\n",
      "483452     28.0     28.0     28.0     28.0      NaN\n",
      "483468     28.0     28.0     28.0     28.0      NaN\n",
      "483484     28.0     28.0     28.0     28.0      NaN\n",
      "483500     28.0     28.0     28.0     28.0      NaN\n",
      "483516     28.0     28.0     28.0     28.0      NaN\n",
      "484028     28.0     28.0     28.0     28.0     28.0\n",
      "484044     28.0     28.0     28.0     28.0     28.0\n",
      "484060     28.0     28.0     28.0     28.0     28.0\n",
      "484076     28.0     28.0     28.0     28.0     28.0\n",
      "484092     28.0     28.0     28.0     28.0     28.0\n",
      "484108     28.0     28.0     28.0     28.0     28.0\n",
      "484124     28.0     28.0     28.0     28.0     28.0\n",
      "484140     28.0     28.0     28.0     28.0     28.0\n",
      "484156     28.0     28.0     28.0     28.0     28.0\n",
      "484172     28.0     28.0     28.0     28.0     28.0\n",
      "484188     28.0     28.0     28.0     28.0     28.0\n",
      "484204     28.0     28.0     28.0     28.0     28.0\n",
      "484220     28.0     28.0     28.0     28.0     28.0\n",
      "484236     28.0     28.0     28.0     28.0     28.0\n",
      "484252     28.0     28.0     28.0     28.0     28.0\n",
      "484268     28.0     28.0     28.0     28.0     28.0\n",
      "484284     28.0     28.0     28.0     28.0     28.0\n",
      "484300     28.0     28.0     28.0     28.0     28.0\n",
      "484316     28.0     28.0     28.0     28.0     28.0\n",
      "484332     28.0     28.0     28.0     28.0     28.0\n",
      "484348     28.0     28.0     28.0     28.0     28.0\n",
      "484364     28.0     28.0     28.0     28.0     28.0\n",
      "484380     28.0     28.0     28.0     28.0     28.0\n",
      "484396     28.0     28.0     28.0     28.0     28.0\n",
      "484412     28.0     28.0     28.0     28.0     28.0\n",
      "484428     28.0     28.0     28.0     28.0     28.0\n",
      "484444     28.0     28.0     28.0     28.0     28.0\n",
      "484460     28.0     28.0     28.0     28.0     28.0\n",
      "484476     28.0     28.0     28.0     28.0     28.0\n",
      "484492     28.0     28.0     28.0     28.0     28.0\n",
      "484508     28.0     28.0     28.0     28.0     28.0\n",
      "484524     28.0     28.0     28.0     28.0     28.0\n",
      "484540     28.0     28.0     28.0     28.0     28.0\n",
      "484636     28.0     28.0     28.0     28.0     28.0\n",
      "484652     28.0     28.0     28.0     28.0     28.0\n",
      "484668     28.0     28.0     28.0     28.0     28.0\n"
     ]
    }
   ],
   "source": [
    "# Q2(b)\n",
    "# need to pivot wider:\n",
    "# 1. Find the time that all of them are in bombsiteB\n",
    "# 2. Filter the rows with required weapons\n",
    "def has_required_weapons(df, weapon1, weapon2, target, players):\n",
    "    count = 0\n",
    "    for player in players:\n",
    "        if type(df[player]) == dict:\n",
    "            if df[player] is None:\n",
    "                continue\n",
    "            if weapon1 in df[player]:\n",
    "                count = count + df[player][weapon1]\n",
    "\n",
    "            if weapon2 in df[player]:\n",
    "                count = count + df[player][weapon2]\n",
    "    if count >= target:\n",
    "        return True\n",
    "    else:\n",
    "        return False\n",
    "\n",
    "\n",
    "condition = (df['area_name'] == 'BombsiteB') & (\n",
    "    df['side'] == 'T') & (df['team'] == 'Team2')\n",
    "filtered_df = df.loc[condition]\n",
    "pivot_df = filtered_df.pivot(index=\"tick\", columns=\"player\")\n",
    "\n",
    "pivot_df['has_required_weapons'] = pivot_df['extracted_feature_map'].apply(\n",
    "    has_required_weapons, args=('Rifle', 'SMG', 2, players_cols), axis=1)\n",
    "\n",
    "print(pivot_df.loc[pivot_df['has_required_weapons']\n",
    "      == True]['clock_time'])\n",
    "# We see that the first timer with required condition is 01:26\n",
    "# Since the round of all these ticks are in round 28, the average timer will be 01:26\n",
    "print(pivot_df.loc[pivot_df['has_required_weapons']\n",
    "      == True]['round_num'])"
   ]
  },
  {
   "cell_type": "code",
   "execution_count": 10,
   "id": "fa53d8c2",
   "metadata": {},
   "outputs": [
    {
     "data": {
      "image/png": "[encoded data removed]",
      "text/plain": [
       "<Figure size 432x288 with 1 Axes>"
      ]
     },
     "metadata": {
      "needs_background": "light"
     },
     "output_type": "display_data"
    }
   ],
   "source": [
    "# Q2(c)\n",
    "CT_condition = (df['area_name'] == 'BombsiteB') & (\n",
    "    df['side'] == 'CT') & (df['team'] == 'Team2')\n",
    "ax = sns.kdeplot(data=df.loc[CT_condition], x='x', y='y', fill=True,\n",
    "                 thresh=0, levels=100, cmap=\"Blues\")\n",
    "plt.show()\n",
    "fig = ax.get_figure()"
   ]
  },
  {
   "cell_type": "markdown",
   "id": "167fe06d",
   "metadata": {},
   "source": [
    "I think we can set up a GitHub Action script. In this way, as long as the stakeholders upload the data to github, the ETL and other functions will be called. We can even use webhook so that when the results are generated, they will be forwarded to slack channel? Or maybe you can create a monitoring dashboard"
   ]
  }
 ],
 "metadata": {
  "kernelspec": {
   "display_name": "Python 3",
   "language": "python",
   "name": "python3"
  },
  "language_info": {
   "codemirror_mode": {
    "name": "ipython",
    "version": 3
   },
   "file_extension": ".py",
   "mimetype": "text/x-python",
   "name": "python",
   "nbconvert_exporter": "python",
   "pygments_lexer": "ipython3",
   "version": "3.9.13"
  }
 },
 "nbformat": 4,
 "nbformat_minor": 5
}
